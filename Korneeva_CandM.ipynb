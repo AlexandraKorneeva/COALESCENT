{
 "cells": [
  {
   "cell_type": "code",
   "execution_count": 163,
   "metadata": {
    "collapsed": true
   },
   "outputs": [],
   "source": [
    "import numpy as np\n",
    "import pylab\n",
    "import matplotlib.pyplot as plt\n",
    "import copy\n",
    "%matplotlib inline"
   ]
  },
  {
   "cell_type": "code",
   "execution_count": 216,
   "metadata": {
    "collapsed": true
   },
   "outputs": [],
   "source": [
    "def generation(t, m, K):\n",
    "    mut_mas=[] \n",
    "    coal_mas=[]\n",
    "    potomki=[]\n",
    "    mut=0\n",
    "    while K!=1:\n",
    "        v=np.piecewise(t,(t<10,10>=t>=20,t>=20),(1,2,3))\n",
    "        l = K*m + K*(K-1)/(2*v)\n",
    "        t_1 = t + np.random.exponential(1/l)\n",
    "        s=np.random.choice(2,p=[K*m/l,(K*(K-1)/(2*v))/l])\n",
    "        if s==1:#Coalescence\n",
    "            potomki2=[]\n",
    "            coal = np.random.choice(K,2,replace=False)\n",
    "            ind1=coal[0]\n",
    "            ind2=coal[1]\n",
    "            coal_mas.append(coal)\n",
    "            #coal_mas.append(coal)\n",
    "            m_ind=min(ind1,ind2)\n",
    "            s_ind=max(ind1,ind2)\n",
    "            if len(potomki)==0:#если нет потомков\n",
    "                for i in range(K):\n",
    "                    if i < m_ind:\n",
    "                        potomki.append([i])\n",
    "                    if i > s_ind:\n",
    "                        potomki.append([i])\n",
    "                    if i == m_ind:\n",
    "                        potomki.append([m_ind, s_ind])\n",
    "                    if i > m_ind and i < s_ind:\n",
    "                        potomki.append([i])\n",
    "            else:\n",
    "                for i in range(K):\n",
    "                    if i < m_ind:\n",
    "                        potomki2.append(potomki[i])\n",
    "                    if i == m_ind:\n",
    "                        potomki2.append(potomki[m_ind] + potomki[s_ind])\n",
    "                    if i > m_ind and i < s_ind:\n",
    "                        potomki2.append(potomki[i])\n",
    "                    if i > s_ind:\n",
    "                        potomki2.append(potomki[i])\n",
    "                potomki = copy.deepcopy(potomki2)\n",
    "            K=K-1\n",
    "        else:#Mutation\n",
    "            l=np.random.choice(K,replace=False)\n",
    "            b = np.random.random()\n",
    "            mut_mas.append(b)\n",
    "            if len(potomki)!=0:\n",
    "                for i in potomki[l]:\n",
    "                    if i != l:\n",
    "                        mut_mas.append(b)\n",
    "            mut=mut+1\n",
    "    #print('Число мутаций:', mut)\n",
    "    ti=t_1\n",
    "    return(coal_mas,mut_mas, ti)"
   ]
  },
  {
   "cell_type": "code",
   "execution_count": 210,
   "metadata": {},
   "outputs": [
    {
     "name": "stdout",
     "output_type": "stream",
     "text": [
      "Число мутаций: 5\n"
     ]
    }
   ],
   "source": [
    "c,r,ti=generation(0, 3, 2)# для числа индивидуумов равном 2 (K=2)"
   ]
  },
  {
   "cell_type": "code",
   "execution_count": 211,
   "metadata": {},
   "outputs": [
    {
     "data": {
      "text/plain": [
       "[array([0, 1])]"
      ]
     },
     "execution_count": 211,
     "metadata": {},
     "output_type": "execute_result"
    }
   ],
   "source": [
    "c#общий предок у 1-ого и 2-ого индивидуума"
   ]
  },
  {
   "cell_type": "code",
   "execution_count": 212,
   "metadata": {},
   "outputs": [
    {
     "data": {
      "text/plain": [
       "[0.6753062249241982,\n",
       " 0.8590185139936115,\n",
       " 0.5307874491427466,\n",
       " 0.5537625249169404,\n",
       " 0.8627196005043801]"
      ]
     },
     "execution_count": 212,
     "metadata": {},
     "output_type": "execute_result"
    }
   ],
   "source": [
    "r"
   ]
  },
  {
   "cell_type": "code",
   "execution_count": 213,
   "metadata": {},
   "outputs": [
    {
     "name": "stdout",
     "output_type": "stream",
     "text": [
      "Число мутаций: 4\n"
     ]
    }
   ],
   "source": [
    "c,r,ti=generation(0, 5, 3)# для числа индивидуумов равном 3  (K=3)"
   ]
  },
  {
   "cell_type": "code",
   "execution_count": 214,
   "metadata": {},
   "outputs": [
    {
     "data": {
      "text/plain": [
       "[array([0, 2]), array([1, 0])]"
      ]
     },
     "execution_count": 214,
     "metadata": {},
     "output_type": "execute_result"
    }
   ],
   "source": [
    "c#общий предок у 1-ого и 3-ого, 1-ого и 2-ого индивидуума"
   ]
  },
  {
   "cell_type": "code",
   "execution_count": 217,
   "metadata": {},
   "outputs": [],
   "source": [
    "def hist(M,m,K,t):\n",
    "    x_plot=[]\n",
    "    y_plot=[]\n",
    "    c=[]\n",
    "    r=[]\n",
    "    y=[]\n",
    "    tm=[]\n",
    "    fig,ax= plt.subplots()\n",
    "    P = np.zeros(M)\n",
    "    for i in range (M):\n",
    "        c,r,ti=generation(t, m, K)\n",
    "        t1=round(ti,3)\n",
    "        if t1 not in x_plot:\n",
    "            x_plot.append(t1)\n",
    "            y_plot.append(1)\n",
    "        else:\n",
    "            y_plot[x_plot.index(t1)] += 1\n",
    "        P[i] = ti\n",
    "    EY = np.sum(P)/M\n",
    "    DY = np.sqrt(np.sum((P-EY)**2)/(M-1))\n",
    "    print('Математическое ожидание', EY)\n",
    "    print('Дисперсия', DY)\n",
    "    ax.bar(x_plot,np.array(y_plot)/M, width = 0.009,color='g')\n",
    "    fig.set_figwidth(10)\n",
    "    fig.set_figheight(3)\n",
    "    ax.set_xlabel('Время')\n",
    "    ax.set_ylabel('Частота')\n",
    "    plt.show()"
   ]
  },
  {
   "cell_type": "code",
   "execution_count": 218,
   "metadata": {},
   "outputs": [
    {
     "name": "stdout",
     "output_type": "stream",
     "text": [
      "Математическое ожидание 0.999110820451\n",
      "Дисперсия 1.00157843099\n"
     ]
    },
    {
     "data": {
      "image/png": "[encoded data removed]",
      "text/plain": [
       "<matplotlib.figure.Figure at 0xba63f12898>"
      ]
     },
     "metadata": {},
     "output_type": "display_data"
    }
   ],
   "source": [
    "hist(100000,0,3,0)#частота мутаций равна 0, количество индивидуумов 3, количество хромосом 100000"
   ]
  },
  {
   "cell_type": "code",
   "execution_count": 219,
   "metadata": {
    "scrolled": true
   },
   "outputs": [
    {
     "name": "stdout",
     "output_type": "stream",
     "text": [
      "Математическое ожидание 0.997649652281\n",
      "Дисперсия 1.00278737127\n"
     ]
    },
    {
     "data": {
      "image/png": "[encoded data removed]",
      "text/plain": [
       "<matplotlib.figure.Figure at 0xba6461add8>"
      ]
     },
     "metadata": {},
     "output_type": "display_data"
    }
   ],
   "source": [
    "hist(100000,0,2,0)#частота мутаций равна 0, количество индивидуумов 2, количество хромосом 100000"
   ]
  },
  {
   "cell_type": "code",
   "execution_count": 220,
   "metadata": {},
   "outputs": [
    {
     "name": "stdout",
     "output_type": "stream",
     "text": [
      "Математическое ожидание 2.00075938124\n",
      "Дисперсия 1.00171802716\n"
     ]
    },
    {
     "data": {
      "image/png": "[encoded data removed]",
      "text/plain": [
       "<matplotlib.figure.Figure at 0xba6460d2e8>"
      ]
     },
     "metadata": {},
     "output_type": "display_data"
    }
   ],
   "source": [
    "hist(100000,0,3,1)#частота мутаций равна 1, количество индивидуумов 3, количество хромосом 100000"
   ]
  },
  {
   "cell_type": "code",
   "execution_count": null,
   "metadata": {
    "collapsed": true
   },
   "outputs": [],
   "source": []
  }
 ],
 "metadata": {
  "kernelspec": {
   "display_name": "Python 3",
   "language": "python",
   "name": "python3"
  },
  "language_info": {
   "codemirror_mode": {
    "name": "ipython",
    "version": 3
   },
   "file_extension": ".py",
   "mimetype": "text/x-python",
   "name": "python",
   "nbconvert_exporter": "python",
   "pygments_lexer": "ipython3",
   "version": "3.6.3"
  }
 },
 "nbformat": 4,
 "nbformat_minor": 2
}
